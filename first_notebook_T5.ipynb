{
  "nbformat": 4,
  "nbformat_minor": 0,
  "metadata": {
    "colab": {
      "provenance": [],
      "authorship_tag": "ABX9TyNzGjxyepbVpNjaGl8gf/VB",
      "include_colab_link": true
    },
    "kernelspec": {
      "name": "python3",
      "display_name": "Python 3"
    },
    "language_info": {
      "name": "python"
    }
  },
  "cells": [
    {
      "cell_type": "markdown",
      "metadata": {
        "id": "view-in-github",
        "colab_type": "text"
      },
      "source": [
        "<a href=\"https://colab.research.google.com/github/Saud0Altuwaijri/test/blob/main/first_notebook_T5.ipynb\" target=\"_parent\"><img src=\"https://colab.research.google.com/assets/colab-badge.svg\" alt=\"Open In Colab\"/></a>"
      ]
    },
    {
      "cell_type": "code",
      "execution_count": 2,
      "metadata": {
        "colab": {
          "base_uri": "https://localhost:8080/"
        },
        "id": "4XHxySiWdBrE",
        "outputId": "bc43af78-ad97-4dcd-9147-dd75a75da022"
      },
      "outputs": [
        {
          "output_type": "stream",
          "name": "stdout",
          "text": [
            "hello world\n"
          ]
        }
      ],
      "source": [
        "import pandas\n",
        "\n",
        "print(\"hello world\")"
      ]
    },
    {
      "cell_type": "code",
      "source": [],
      "metadata": {
        "id": "9hSxojRBdOVo"
      },
      "execution_count": null,
      "outputs": []
    },
    {
      "cell_type": "markdown",
      "source": [
        "**bold text**  \n",
        "*dsfsdf*\n",
        "\n",
        "*   List isdfstem\n",
        "*   List sdfsdfs\n",
        "* dfssdsd\n",
        "\n",
        "\n",
        "\n",
        "1.   Listsdf item\n",
        "2.   sdfsdfsdf\n",
        "3. dfsdfsd\n",
        "\n",
        "\n",
        "\n",
        "\n",
        "```\n",
        "print\n",
        "```\n",
        "# New Section A\\\n",
        "---\n",
        "---\n",
        "\\  fdsfsdfs   \n",
        "⁉\n",
        "⚾  \n",
        "̨\n",
        "\n",
        "\n",
        "\n"
      ],
      "metadata": {
        "id": "mzj9_YWy0r7r"
      }
    },
    {
      "cell_type": "code",
      "source": [],
      "metadata": {
        "id": "ABf4xDvC1GOM"
      },
      "execution_count": null,
      "outputs": []
    }
  ]
}